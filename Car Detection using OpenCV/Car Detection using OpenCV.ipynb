{
 "cells": [
  {
   "cell_type": "code",
   "execution_count": 1,
   "metadata": {},
   "outputs": [],
   "source": [
    "import cv2\n",
    "\n",
    "video=cv2.VideoCapture(r'C:\\Users\\nasim\\Documents\\Morad\\data\\traffic.mp4')\n",
    "\n",
    "carCaseCase=cv2.CascadeClassifier(r'C:\\Users\\nasim\\Documents\\Morad\\data\\cars.xml')\n",
    "\n",
    "while True:\n",
    "\tret,frame=video.read()\n",
    "\tgray=cv2.cvtColor(frame, cv2.COLOR_BGR2GRAY)\n",
    "\tcars=carCaseCase.detectMultiScale(gray, 1.1, 9)\n",
    "\tfor x,y,w,h in cars:\n",
    "\t\tcv2.rectangle(frame, (x,y), (x+w, y+h), (50,50,255),2)\n",
    "\t\tcv2.rectangle(frame, (x,y-40),(x+w, y), (50,50,255),-2)\n",
    "\t\tcv2.putText(frame,\"Car\",(x,y-10),cv2.FONT_HERSHEY_COMPLEX,0.75, (255,255,255),2,cv2.LINE_AA)\n",
    "\tframe=cv2.resize(frame, (600,400))\n",
    "\tcv2.imshow(\"Car Detection\",frame)\n",
    "\tk=cv2.waitKey(1)\n",
    "\tif k==ord('q'):\n",
    "\t\tbreak\n",
    "video.release()\n",
    "cv2.destroyAllWindows()"
   ]
  },
  {
   "cell_type": "code",
   "execution_count": null,
   "metadata": {},
   "outputs": [],
   "source": []
  }
 ],
 "metadata": {
  "kernelspec": {
   "display_name": "Python 3",
   "language": "python",
   "name": "python3"
  },
  "language_info": {
   "codemirror_mode": {
    "name": "ipython",
    "version": 3
   },
   "file_extension": ".py",
   "mimetype": "text/x-python",
   "name": "python",
   "nbconvert_exporter": "python",
   "pygments_lexer": "ipython3",
   "version": "3.8.5"
  }
 },
 "nbformat": 4,
 "nbformat_minor": 4
}
